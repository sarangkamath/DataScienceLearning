{
 "cells": [
  {
   "cell_type": "markdown",
   "id": "47486daa-2343-40ac-83bc-c2161ea43ad9",
   "metadata": {},
   "source": [
    "# Data Science Tools and Ecosystem"
   ]
  },
  {
   "cell_type": "markdown",
   "id": "23bbf3e5-7561-4587-b339-ccaf6fb77fdf",
   "metadata": {},
   "source": [
    "In this notebook, Data Science Tools and Ecosystem are summarized."
   ]
  },
  {
   "cell_type": "markdown",
   "id": "aaceb581-2080-4348-af64-e2235f249837",
   "metadata": {},
   "source": [
    "**Objectives:**\n",
    "- Overview of Data Science tools\n",
    "- Some commonly used libraries\n",
    "- Languages of Data Science\n",
    "- Arithmetic Expressions"
   ]
  },
  {
   "cell_type": "markdown",
   "id": "3a009961-63e3-4ae2-8bd8-30a7d9d93f88",
   "metadata": {},
   "source": [
    "## Author:\n",
    "Sarang"
   ]
  },
  {
   "cell_type": "markdown",
   "id": "4c9fa774-72af-473e-8cce-56f9530ad8f4",
   "metadata": {},
   "source": [
    "Some of the commonly used Data Science Languages are:\n",
    "1. Python\n",
    "2. R\n",
    "3. SQL"
   ]
  },
  {
   "cell_type": "markdown",
   "id": "a8de823c-df5c-4f33-a9af-2a83bec1cb0e",
   "metadata": {},
   "source": [
    "Some of the commonly used libraries by Data Scientists are:\n",
    "1. pandas\n",
    "2. matplotlib\n",
    "3. seaborn\n",
    "4. TensorFlow\n",
    " "
   ]
  },
  {
   "cell_type": "markdown",
   "id": "7bcd698c-a93e-454a-b293-045731fe5599",
   "metadata": {},
   "source": [
    "|Data Science Tools|\n",
    "|------|\n",
    "|Apache Spark|\n",
    "|Hadoop|\n",
    "|Python|\n"
   ]
  },
  {
   "cell_type": "markdown",
   "id": "34f7036d-b6b2-4a8e-b208-451ad28cbd87",
   "metadata": {},
   "source": [
    "### Below are a few examples of evaluating arithmetic expressions in Python"
   ]
  },
  {
   "cell_type": "code",
   "execution_count": 1,
   "id": "1815b34d-eef8-43eb-9896-93bcd0a71084",
   "metadata": {
    "tags": []
   },
   "outputs": [
    {
     "data": {
      "text/plain": [
       "17"
      ]
     },
     "execution_count": 1,
     "metadata": {},
     "output_type": "execute_result"
    }
   ],
   "source": [
    "# This a simple arithmetic expression to mutiply then add integers\n",
    "(3*4)+5"
   ]
  },
  {
   "cell_type": "code",
   "execution_count": 2,
   "id": "3126f6c9-94ac-42f4-ada3-1158e0a1551d",
   "metadata": {
    "tags": []
   },
   "outputs": [
    {
     "data": {
      "text/plain": [
       "3.3333333333333335"
      ]
     },
     "execution_count": 2,
     "metadata": {},
     "output_type": "execute_result"
    }
   ],
   "source": [
    "# This will convert 200 minutes to hours by diving by 60\n",
    "200/60"
   ]
  },
  {
   "cell_type": "code",
   "execution_count": null,
   "id": "83c32ba0-86ab-496f-a6a5-eb6099c25f64",
   "metadata": {},
   "outputs": [],
   "source": []
  }
 ],
 "metadata": {
  "kernelspec": {
   "display_name": "Python",
   "language": "python",
   "name": "conda-env-python-py"
  },
  "language_info": {
   "codemirror_mode": {
    "name": "ipython",
    "version": 3
   },
   "file_extension": ".py",
   "mimetype": "text/x-python",
   "name": "python",
   "nbconvert_exporter": "python",
   "pygments_lexer": "ipython3",
   "version": "3.7.12"
  }
 },
 "nbformat": 4,
 "nbformat_minor": 5
}
